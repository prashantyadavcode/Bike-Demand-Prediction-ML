{
 "cells": [
  {
   "cell_type": "code",
   "execution_count": 16,
   "id": "d3a4876f",
   "metadata": {},
   "outputs": [],
   "source": [
    "import pandas as pd\n",
    "import matplotlib.pyplot as plt\n",
    "import numpy as np \n",
    "import math"
   ]
  },
  {
   "cell_type": "code",
   "execution_count": 17,
   "id": "85d7b0cf",
   "metadata": {},
   "outputs": [],
   "source": [
    "bike = pd.read_csv(\"bike-demand.csv\")"
   ]
  },
  {
   "cell_type": "code",
   "execution_count": 18,
   "id": "ca783a3c",
   "metadata": {},
   "outputs": [
    {
     "data": {
      "text/html": [
       "<div>\n",
       "<style scoped>\n",
       "    .dataframe tbody tr th:only-of-type {\n",
       "        vertical-align: middle;\n",
       "    }\n",
       "\n",
       "    .dataframe tbody tr th {\n",
       "        vertical-align: top;\n",
       "    }\n",
       "\n",
       "    .dataframe thead th {\n",
       "        text-align: right;\n",
       "    }\n",
       "</style>\n",
       "<table border=\"1\" class=\"dataframe\">\n",
       "  <thead>\n",
       "    <tr style=\"text-align: right;\">\n",
       "      <th></th>\n",
       "      <th>index</th>\n",
       "      <th>date</th>\n",
       "      <th>season</th>\n",
       "      <th>year</th>\n",
       "      <th>month</th>\n",
       "      <th>hour</th>\n",
       "      <th>holiday</th>\n",
       "      <th>weekday</th>\n",
       "      <th>workingday</th>\n",
       "      <th>weather</th>\n",
       "      <th>temp</th>\n",
       "      <th>atemp</th>\n",
       "      <th>humidity</th>\n",
       "      <th>windspeed</th>\n",
       "      <th>casual</th>\n",
       "      <th>registered</th>\n",
       "      <th>demand</th>\n",
       "    </tr>\n",
       "  </thead>\n",
       "  <tbody>\n",
       "    <tr>\n",
       "      <th>0</th>\n",
       "      <td>1</td>\n",
       "      <td>01-01-2011</td>\n",
       "      <td>1</td>\n",
       "      <td>0</td>\n",
       "      <td>1</td>\n",
       "      <td>0</td>\n",
       "      <td>0</td>\n",
       "      <td>6</td>\n",
       "      <td>0</td>\n",
       "      <td>1</td>\n",
       "      <td>0.24</td>\n",
       "      <td>0.2879</td>\n",
       "      <td>0.81</td>\n",
       "      <td>0.0</td>\n",
       "      <td>3</td>\n",
       "      <td>13</td>\n",
       "      <td>16</td>\n",
       "    </tr>\n",
       "    <tr>\n",
       "      <th>1</th>\n",
       "      <td>2</td>\n",
       "      <td>01-01-2011</td>\n",
       "      <td>1</td>\n",
       "      <td>0</td>\n",
       "      <td>1</td>\n",
       "      <td>1</td>\n",
       "      <td>0</td>\n",
       "      <td>6</td>\n",
       "      <td>0</td>\n",
       "      <td>1</td>\n",
       "      <td>0.22</td>\n",
       "      <td>0.2727</td>\n",
       "      <td>0.80</td>\n",
       "      <td>0.0</td>\n",
       "      <td>8</td>\n",
       "      <td>32</td>\n",
       "      <td>40</td>\n",
       "    </tr>\n",
       "    <tr>\n",
       "      <th>2</th>\n",
       "      <td>3</td>\n",
       "      <td>01-01-2011</td>\n",
       "      <td>1</td>\n",
       "      <td>0</td>\n",
       "      <td>1</td>\n",
       "      <td>2</td>\n",
       "      <td>0</td>\n",
       "      <td>6</td>\n",
       "      <td>0</td>\n",
       "      <td>1</td>\n",
       "      <td>0.22</td>\n",
       "      <td>0.2727</td>\n",
       "      <td>0.80</td>\n",
       "      <td>0.0</td>\n",
       "      <td>5</td>\n",
       "      <td>27</td>\n",
       "      <td>32</td>\n",
       "    </tr>\n",
       "    <tr>\n",
       "      <th>3</th>\n",
       "      <td>4</td>\n",
       "      <td>01-01-2011</td>\n",
       "      <td>1</td>\n",
       "      <td>0</td>\n",
       "      <td>1</td>\n",
       "      <td>3</td>\n",
       "      <td>0</td>\n",
       "      <td>6</td>\n",
       "      <td>0</td>\n",
       "      <td>1</td>\n",
       "      <td>0.24</td>\n",
       "      <td>0.2879</td>\n",
       "      <td>0.75</td>\n",
       "      <td>0.0</td>\n",
       "      <td>3</td>\n",
       "      <td>10</td>\n",
       "      <td>13</td>\n",
       "    </tr>\n",
       "    <tr>\n",
       "      <th>4</th>\n",
       "      <td>5</td>\n",
       "      <td>01-01-2011</td>\n",
       "      <td>1</td>\n",
       "      <td>0</td>\n",
       "      <td>1</td>\n",
       "      <td>4</td>\n",
       "      <td>0</td>\n",
       "      <td>6</td>\n",
       "      <td>0</td>\n",
       "      <td>1</td>\n",
       "      <td>0.24</td>\n",
       "      <td>0.2879</td>\n",
       "      <td>0.75</td>\n",
       "      <td>0.0</td>\n",
       "      <td>0</td>\n",
       "      <td>1</td>\n",
       "      <td>1</td>\n",
       "    </tr>\n",
       "  </tbody>\n",
       "</table>\n",
       "</div>"
      ],
      "text/plain": [
       "   index        date  season  year  month  hour  holiday  weekday  workingday  \\\n",
       "0      1  01-01-2011       1     0      1     0        0        6           0   \n",
       "1      2  01-01-2011       1     0      1     1        0        6           0   \n",
       "2      3  01-01-2011       1     0      1     2        0        6           0   \n",
       "3      4  01-01-2011       1     0      1     3        0        6           0   \n",
       "4      5  01-01-2011       1     0      1     4        0        6           0   \n",
       "\n",
       "   weather  temp   atemp  humidity  windspeed  casual  registered  demand  \n",
       "0        1  0.24  0.2879      0.81        0.0       3          13      16  \n",
       "1        1  0.22  0.2727      0.80        0.0       8          32      40  \n",
       "2        1  0.22  0.2727      0.80        0.0       5          27      32  \n",
       "3        1  0.24  0.2879      0.75        0.0       3          10      13  \n",
       "4        1  0.24  0.2879      0.75        0.0       0           1       1  "
      ]
     },
     "execution_count": 18,
     "metadata": {},
     "output_type": "execute_result"
    }
   ],
   "source": [
    "bike.head(5)"
   ]
  },
  {
   "cell_type": "code",
   "execution_count": 19,
   "id": "7b4fe03b",
   "metadata": {},
   "outputs": [
    {
     "name": "stdout",
     "output_type": "stream",
     "text": [
      "<class 'pandas.core.frame.DataFrame'>\n",
      "RangeIndex: 17379 entries, 0 to 17378\n",
      "Data columns (total 17 columns):\n",
      " #   Column      Non-Null Count  Dtype  \n",
      "---  ------      --------------  -----  \n",
      " 0   index       17379 non-null  int64  \n",
      " 1   date        17379 non-null  object \n",
      " 2   season      17379 non-null  int64  \n",
      " 3   year        17379 non-null  int64  \n",
      " 4   month       17379 non-null  int64  \n",
      " 5   hour        17379 non-null  int64  \n",
      " 6   holiday     17379 non-null  int64  \n",
      " 7   weekday     17379 non-null  int64  \n",
      " 8   workingday  17379 non-null  int64  \n",
      " 9   weather     17379 non-null  int64  \n",
      " 10  temp        17379 non-null  float64\n",
      " 11  atemp       17379 non-null  float64\n",
      " 12  humidity    17379 non-null  float64\n",
      " 13  windspeed   17379 non-null  float64\n",
      " 14  casual      17379 non-null  int64  \n",
      " 15  registered  17379 non-null  int64  \n",
      " 16  demand      17379 non-null  int64  \n",
      "dtypes: float64(4), int64(12), object(1)\n",
      "memory usage: 2.3+ MB\n"
     ]
    }
   ],
   "source": [
    "bike.info()"
   ]
  },
  {
   "cell_type": "code",
   "execution_count": 20,
   "id": "69987e82",
   "metadata": {},
   "outputs": [
    {
     "data": {
      "text/html": [
       "<div>\n",
       "<style scoped>\n",
       "    .dataframe tbody tr th:only-of-type {\n",
       "        vertical-align: middle;\n",
       "    }\n",
       "\n",
       "    .dataframe tbody tr th {\n",
       "        vertical-align: top;\n",
       "    }\n",
       "\n",
       "    .dataframe thead th {\n",
       "        text-align: right;\n",
       "    }\n",
       "</style>\n",
       "<table border=\"1\" class=\"dataframe\">\n",
       "  <thead>\n",
       "    <tr style=\"text-align: right;\">\n",
       "      <th></th>\n",
       "      <th>index</th>\n",
       "      <th>season</th>\n",
       "      <th>year</th>\n",
       "      <th>month</th>\n",
       "      <th>hour</th>\n",
       "      <th>holiday</th>\n",
       "      <th>weekday</th>\n",
       "      <th>workingday</th>\n",
       "      <th>weather</th>\n",
       "      <th>temp</th>\n",
       "      <th>atemp</th>\n",
       "      <th>humidity</th>\n",
       "      <th>windspeed</th>\n",
       "      <th>casual</th>\n",
       "      <th>registered</th>\n",
       "      <th>demand</th>\n",
       "    </tr>\n",
       "  </thead>\n",
       "  <tbody>\n",
       "    <tr>\n",
       "      <th>count</th>\n",
       "      <td>17379.0000</td>\n",
       "      <td>17379.000000</td>\n",
       "      <td>17379.000000</td>\n",
       "      <td>17379.000000</td>\n",
       "      <td>17379.000000</td>\n",
       "      <td>17379.000000</td>\n",
       "      <td>17379.000000</td>\n",
       "      <td>17379.000000</td>\n",
       "      <td>17379.000000</td>\n",
       "      <td>17379.000000</td>\n",
       "      <td>17379.000000</td>\n",
       "      <td>17379.000000</td>\n",
       "      <td>17379.000000</td>\n",
       "      <td>17379.000000</td>\n",
       "      <td>17379.000000</td>\n",
       "      <td>17379.000000</td>\n",
       "    </tr>\n",
       "    <tr>\n",
       "      <th>mean</th>\n",
       "      <td>8690.0000</td>\n",
       "      <td>2.501640</td>\n",
       "      <td>0.502561</td>\n",
       "      <td>6.537775</td>\n",
       "      <td>11.546752</td>\n",
       "      <td>0.028770</td>\n",
       "      <td>3.003683</td>\n",
       "      <td>0.682721</td>\n",
       "      <td>1.425283</td>\n",
       "      <td>0.496987</td>\n",
       "      <td>0.475775</td>\n",
       "      <td>0.627229</td>\n",
       "      <td>0.190098</td>\n",
       "      <td>35.676218</td>\n",
       "      <td>153.786869</td>\n",
       "      <td>189.463088</td>\n",
       "    </tr>\n",
       "    <tr>\n",
       "      <th>std</th>\n",
       "      <td>5017.0295</td>\n",
       "      <td>1.106918</td>\n",
       "      <td>0.500008</td>\n",
       "      <td>3.438776</td>\n",
       "      <td>6.914405</td>\n",
       "      <td>0.167165</td>\n",
       "      <td>2.005771</td>\n",
       "      <td>0.465431</td>\n",
       "      <td>0.639357</td>\n",
       "      <td>0.192556</td>\n",
       "      <td>0.171850</td>\n",
       "      <td>0.192930</td>\n",
       "      <td>0.122340</td>\n",
       "      <td>49.305030</td>\n",
       "      <td>151.357286</td>\n",
       "      <td>181.387599</td>\n",
       "    </tr>\n",
       "    <tr>\n",
       "      <th>min</th>\n",
       "      <td>1.0000</td>\n",
       "      <td>1.000000</td>\n",
       "      <td>0.000000</td>\n",
       "      <td>1.000000</td>\n",
       "      <td>0.000000</td>\n",
       "      <td>0.000000</td>\n",
       "      <td>0.000000</td>\n",
       "      <td>0.000000</td>\n",
       "      <td>1.000000</td>\n",
       "      <td>0.020000</td>\n",
       "      <td>0.000000</td>\n",
       "      <td>0.000000</td>\n",
       "      <td>0.000000</td>\n",
       "      <td>0.000000</td>\n",
       "      <td>0.000000</td>\n",
       "      <td>1.000000</td>\n",
       "    </tr>\n",
       "    <tr>\n",
       "      <th>25%</th>\n",
       "      <td>4345.5000</td>\n",
       "      <td>2.000000</td>\n",
       "      <td>0.000000</td>\n",
       "      <td>4.000000</td>\n",
       "      <td>6.000000</td>\n",
       "      <td>0.000000</td>\n",
       "      <td>1.000000</td>\n",
       "      <td>0.000000</td>\n",
       "      <td>1.000000</td>\n",
       "      <td>0.340000</td>\n",
       "      <td>0.333300</td>\n",
       "      <td>0.480000</td>\n",
       "      <td>0.104500</td>\n",
       "      <td>4.000000</td>\n",
       "      <td>34.000000</td>\n",
       "      <td>40.000000</td>\n",
       "    </tr>\n",
       "    <tr>\n",
       "      <th>50%</th>\n",
       "      <td>8690.0000</td>\n",
       "      <td>3.000000</td>\n",
       "      <td>1.000000</td>\n",
       "      <td>7.000000</td>\n",
       "      <td>12.000000</td>\n",
       "      <td>0.000000</td>\n",
       "      <td>3.000000</td>\n",
       "      <td>1.000000</td>\n",
       "      <td>1.000000</td>\n",
       "      <td>0.500000</td>\n",
       "      <td>0.484800</td>\n",
       "      <td>0.630000</td>\n",
       "      <td>0.194000</td>\n",
       "      <td>17.000000</td>\n",
       "      <td>115.000000</td>\n",
       "      <td>142.000000</td>\n",
       "    </tr>\n",
       "    <tr>\n",
       "      <th>75%</th>\n",
       "      <td>13034.5000</td>\n",
       "      <td>3.000000</td>\n",
       "      <td>1.000000</td>\n",
       "      <td>10.000000</td>\n",
       "      <td>18.000000</td>\n",
       "      <td>0.000000</td>\n",
       "      <td>5.000000</td>\n",
       "      <td>1.000000</td>\n",
       "      <td>2.000000</td>\n",
       "      <td>0.660000</td>\n",
       "      <td>0.621200</td>\n",
       "      <td>0.780000</td>\n",
       "      <td>0.253700</td>\n",
       "      <td>48.000000</td>\n",
       "      <td>220.000000</td>\n",
       "      <td>281.000000</td>\n",
       "    </tr>\n",
       "    <tr>\n",
       "      <th>max</th>\n",
       "      <td>17379.0000</td>\n",
       "      <td>4.000000</td>\n",
       "      <td>1.000000</td>\n",
       "      <td>12.000000</td>\n",
       "      <td>23.000000</td>\n",
       "      <td>1.000000</td>\n",
       "      <td>6.000000</td>\n",
       "      <td>1.000000</td>\n",
       "      <td>4.000000</td>\n",
       "      <td>1.000000</td>\n",
       "      <td>1.000000</td>\n",
       "      <td>1.000000</td>\n",
       "      <td>0.850700</td>\n",
       "      <td>367.000000</td>\n",
       "      <td>886.000000</td>\n",
       "      <td>977.000000</td>\n",
       "    </tr>\n",
       "  </tbody>\n",
       "</table>\n",
       "</div>"
      ],
      "text/plain": [
       "            index        season          year         month          hour  \\\n",
       "count  17379.0000  17379.000000  17379.000000  17379.000000  17379.000000   \n",
       "mean    8690.0000      2.501640      0.502561      6.537775     11.546752   \n",
       "std     5017.0295      1.106918      0.500008      3.438776      6.914405   \n",
       "min        1.0000      1.000000      0.000000      1.000000      0.000000   \n",
       "25%     4345.5000      2.000000      0.000000      4.000000      6.000000   \n",
       "50%     8690.0000      3.000000      1.000000      7.000000     12.000000   \n",
       "75%    13034.5000      3.000000      1.000000     10.000000     18.000000   \n",
       "max    17379.0000      4.000000      1.000000     12.000000     23.000000   \n",
       "\n",
       "            holiday       weekday    workingday       weather          temp  \\\n",
       "count  17379.000000  17379.000000  17379.000000  17379.000000  17379.000000   \n",
       "mean       0.028770      3.003683      0.682721      1.425283      0.496987   \n",
       "std        0.167165      2.005771      0.465431      0.639357      0.192556   \n",
       "min        0.000000      0.000000      0.000000      1.000000      0.020000   \n",
       "25%        0.000000      1.000000      0.000000      1.000000      0.340000   \n",
       "50%        0.000000      3.000000      1.000000      1.000000      0.500000   \n",
       "75%        0.000000      5.000000      1.000000      2.000000      0.660000   \n",
       "max        1.000000      6.000000      1.000000      4.000000      1.000000   \n",
       "\n",
       "              atemp      humidity     windspeed        casual    registered  \\\n",
       "count  17379.000000  17379.000000  17379.000000  17379.000000  17379.000000   \n",
       "mean       0.475775      0.627229      0.190098     35.676218    153.786869   \n",
       "std        0.171850      0.192930      0.122340     49.305030    151.357286   \n",
       "min        0.000000      0.000000      0.000000      0.000000      0.000000   \n",
       "25%        0.333300      0.480000      0.104500      4.000000     34.000000   \n",
       "50%        0.484800      0.630000      0.194000     17.000000    115.000000   \n",
       "75%        0.621200      0.780000      0.253700     48.000000    220.000000   \n",
       "max        1.000000      1.000000      0.850700    367.000000    886.000000   \n",
       "\n",
       "             demand  \n",
       "count  17379.000000  \n",
       "mean     189.463088  \n",
       "std      181.387599  \n",
       "min        1.000000  \n",
       "25%       40.000000  \n",
       "50%      142.000000  \n",
       "75%      281.000000  \n",
       "max      977.000000  "
      ]
     },
     "execution_count": 20,
     "metadata": {},
     "output_type": "execute_result"
    }
   ],
   "source": [
    "bike.describe()"
   ]
  },
  {
   "cell_type": "code",
   "execution_count": 21,
   "id": "0c5078b4",
   "metadata": {},
   "outputs": [],
   "source": [
    "bt = bike.copy()"
   ]
  },
  {
   "cell_type": "code",
   "execution_count": 22,
   "id": "d0abadf8",
   "metadata": {},
   "outputs": [],
   "source": [
    "bt = bt.drop(['index', 'casual', 'registered'], axis=1)"
   ]
  },
  {
   "cell_type": "code",
   "execution_count": 23,
   "id": "9e901cbc",
   "metadata": {},
   "outputs": [
    {
     "data": {
      "text/plain": [
       "date          0\n",
       "season        0\n",
       "year          0\n",
       "month         0\n",
       "hour          0\n",
       "holiday       0\n",
       "weekday       0\n",
       "workingday    0\n",
       "weather       0\n",
       "temp          0\n",
       "atemp         0\n",
       "humidity      0\n",
       "windspeed     0\n",
       "demand        0\n",
       "dtype: int64"
      ]
     },
     "execution_count": 23,
     "metadata": {},
     "output_type": "execute_result"
    }
   ],
   "source": [
    "bt.isnull().sum()"
   ]
  },
  {
   "cell_type": "code",
   "execution_count": 24,
   "id": "393474a0",
   "metadata": {},
   "outputs": [
    {
     "data": {
      "text/plain": [
       "<Figure size 576x432 with 0 Axes>"
      ]
     },
     "metadata": {},
     "output_type": "display_data"
    },
    {
     "data": {
      "image/png": "[encoded data removed]",
      "text/plain": [
       "<Figure size 432x288 with 16 Axes>"
      ]
     },
     "metadata": {
      "needs_background": "light"
     },
     "output_type": "display_data"
    }
   ],
   "source": [
    "plt.figure(figsize=(8,6))\n",
    "bt.hist(rwidth=0.9)\n",
    "plt.tight_layout()"
   ]
  },
  {
   "cell_type": "code",
   "execution_count": 25,
   "id": "45545e7f",
   "metadata": {},
   "outputs": [
    {
     "data": {
      "text/html": [
       "<div>\n",
       "<style scoped>\n",
       "    .dataframe tbody tr th:only-of-type {\n",
       "        vertical-align: middle;\n",
       "    }\n",
       "\n",
       "    .dataframe tbody tr th {\n",
       "        vertical-align: top;\n",
       "    }\n",
       "\n",
       "    .dataframe thead th {\n",
       "        text-align: right;\n",
       "    }\n",
       "</style>\n",
       "<table border=\"1\" class=\"dataframe\">\n",
       "  <thead>\n",
       "    <tr style=\"text-align: right;\">\n",
       "      <th></th>\n",
       "      <th>season</th>\n",
       "      <th>year</th>\n",
       "      <th>month</th>\n",
       "      <th>hour</th>\n",
       "      <th>holiday</th>\n",
       "      <th>weekday</th>\n",
       "      <th>workingday</th>\n",
       "      <th>weather</th>\n",
       "      <th>temp</th>\n",
       "      <th>atemp</th>\n",
       "      <th>humidity</th>\n",
       "      <th>windspeed</th>\n",
       "      <th>demand</th>\n",
       "    </tr>\n",
       "  </thead>\n",
       "  <tbody>\n",
       "    <tr>\n",
       "      <th>0</th>\n",
       "      <td>1</td>\n",
       "      <td>0</td>\n",
       "      <td>1</td>\n",
       "      <td>0</td>\n",
       "      <td>0</td>\n",
       "      <td>6</td>\n",
       "      <td>0</td>\n",
       "      <td>1</td>\n",
       "      <td>0.24</td>\n",
       "      <td>0.2879</td>\n",
       "      <td>0.81</td>\n",
       "      <td>0.0</td>\n",
       "      <td>16</td>\n",
       "    </tr>\n",
       "    <tr>\n",
       "      <th>1</th>\n",
       "      <td>1</td>\n",
       "      <td>0</td>\n",
       "      <td>1</td>\n",
       "      <td>1</td>\n",
       "      <td>0</td>\n",
       "      <td>6</td>\n",
       "      <td>0</td>\n",
       "      <td>1</td>\n",
       "      <td>0.22</td>\n",
       "      <td>0.2727</td>\n",
       "      <td>0.80</td>\n",
       "      <td>0.0</td>\n",
       "      <td>40</td>\n",
       "    </tr>\n",
       "    <tr>\n",
       "      <th>2</th>\n",
       "      <td>1</td>\n",
       "      <td>0</td>\n",
       "      <td>1</td>\n",
       "      <td>2</td>\n",
       "      <td>0</td>\n",
       "      <td>6</td>\n",
       "      <td>0</td>\n",
       "      <td>1</td>\n",
       "      <td>0.22</td>\n",
       "      <td>0.2727</td>\n",
       "      <td>0.80</td>\n",
       "      <td>0.0</td>\n",
       "      <td>32</td>\n",
       "    </tr>\n",
       "    <tr>\n",
       "      <th>3</th>\n",
       "      <td>1</td>\n",
       "      <td>0</td>\n",
       "      <td>1</td>\n",
       "      <td>3</td>\n",
       "      <td>0</td>\n",
       "      <td>6</td>\n",
       "      <td>0</td>\n",
       "      <td>1</td>\n",
       "      <td>0.24</td>\n",
       "      <td>0.2879</td>\n",
       "      <td>0.75</td>\n",
       "      <td>0.0</td>\n",
       "      <td>13</td>\n",
       "    </tr>\n",
       "    <tr>\n",
       "      <th>4</th>\n",
       "      <td>1</td>\n",
       "      <td>0</td>\n",
       "      <td>1</td>\n",
       "      <td>4</td>\n",
       "      <td>0</td>\n",
       "      <td>6</td>\n",
       "      <td>0</td>\n",
       "      <td>1</td>\n",
       "      <td>0.24</td>\n",
       "      <td>0.2879</td>\n",
       "      <td>0.75</td>\n",
       "      <td>0.0</td>\n",
       "      <td>1</td>\n",
       "    </tr>\n",
       "  </tbody>\n",
       "</table>\n",
       "</div>"
      ],
      "text/plain": [
       "   season  year  month  hour  holiday  weekday  workingday  weather  temp  \\\n",
       "0       1     0      1     0        0        6           0        1  0.24   \n",
       "1       1     0      1     1        0        6           0        1  0.22   \n",
       "2       1     0      1     2        0        6           0        1  0.22   \n",
       "3       1     0      1     3        0        6           0        1  0.24   \n",
       "4       1     0      1     4        0        6           0        1  0.24   \n",
       "\n",
       "    atemp  humidity  windspeed  demand  \n",
       "0  0.2879      0.81        0.0      16  \n",
       "1  0.2727      0.80        0.0      40  \n",
       "2  0.2727      0.80        0.0      32  \n",
       "3  0.2879      0.75        0.0      13  \n",
       "4  0.2879      0.75        0.0       1  "
      ]
     },
     "execution_count": 25,
     "metadata": {},
     "output_type": "execute_result"
    }
   ],
   "source": [
    "bt = bt.drop(['date'], axis=1)\n",
    "bt.head()"
   ]
  },
  {
   "cell_type": "code",
   "execution_count": 26,
   "id": "fda78a97",
   "metadata": {},
   "outputs": [
    {
     "data": {
      "image/png": "[encoded data removed]",
      "text/plain": [
       "<Figure size 432x288 with 4 Axes>"
      ]
     },
     "metadata": {
      "needs_background": "light"
     },
     "output_type": "display_data"
    }
   ],
   "source": [
    "plt.subplot(2,2,1)\n",
    "plt.title(\"Temp vs Demand\")\n",
    "plt.scatter(bt['temp'],bt['demand'],s=1,c='g')\n",
    "\n",
    "plt.subplot(2,2,2)\n",
    "plt.title(\"Atemp vs Demand\")\n",
    "plt.scatter(bt['atemp'],bt['demand'],s=1,c='b')\n",
    "\n",
    "plt.subplot(2,2,3)\n",
    "plt.title(\"Humidity vs Demand\")\n",
    "plt.scatter(bt['humidity'],bt['demand'],s=1,c='m')\n",
    "\n",
    "plt.subplot(2,2,4)\n",
    "plt.title(\"Windspeed vs Demand\")\n",
    "plt.scatter(bt['windspeed'],bt['demand'],s=1,c='c')\n",
    "\n",
    "plt.tight_layout()"
   ]
  },
  {
   "cell_type": "code",
   "execution_count": 31,
   "id": "30026029",
   "metadata": {},
   "outputs": [
    {
     "data": {
      "text/plain": [
       "count    17379.000000\n",
       "mean       189.463088\n",
       "std        181.387599\n",
       "min          1.000000\n",
       "25%         40.000000\n",
       "50%        142.000000\n",
       "75%        281.000000\n",
       "max        977.000000\n",
       "Name: demand, dtype: float64"
      ]
     },
     "execution_count": 31,
     "metadata": {},
     "output_type": "execute_result"
    }
   ],
   "source": [
    "bt['demand'].describe()"
   ]
  },
  {
   "cell_type": "code",
   "execution_count": 32,
   "id": "8effbf8b",
   "metadata": {},
   "outputs": [
    {
     "data": {
      "text/plain": [
       "0.50    142.00\n",
       "0.10      9.00\n",
       "0.15     16.00\n",
       "0.90    451.20\n",
       "0.95    563.10\n",
       "0.99    782.22\n",
       "Name: demand, dtype: float64"
      ]
     },
     "execution_count": 32,
     "metadata": {},
     "output_type": "execute_result"
    }
   ],
   "source": [
    "bt['demand'].quantile([0.5,0.1,0.15,0.9,0.95,0.99])"
   ]
  },
  {
   "cell_type": "code",
   "execution_count": 33,
   "id": "f98006b4",
   "metadata": {},
   "outputs": [
    {
     "name": "stdout",
     "output_type": "stream",
     "text": [
      "               temp     atemp  humidity  windspeed    demand\n",
      "temp       1.000000  0.987672 -0.069881  -0.023125  0.404772\n",
      "atemp      0.987672  1.000000 -0.051918  -0.062336  0.400929\n",
      "humidity  -0.069881 -0.051918  1.000000  -0.290105 -0.322911\n",
      "windspeed -0.023125 -0.062336 -0.290105   1.000000  0.093234\n",
      "demand     0.404772  0.400929 -0.322911   0.093234  1.000000\n"
     ]
    }
   ],
   "source": [
    "correlation = bt[['temp','atemp','humidity','windspeed','demand']].corr()\n",
    "print(correlation)"
   ]
  },
  {
   "cell_type": "code",
   "execution_count": 34,
   "id": "f004d279",
   "metadata": {},
   "outputs": [
    {
     "name": "stdout",
     "output_type": "stream",
     "text": [
      "       season  month  hour  holiday  weather  temp  humidity  demand\n",
      "0           1      1     0        0        1  0.24      0.81      16\n",
      "1           1      1     1        0        1  0.22      0.80      40\n",
      "2           1      1     2        0        1  0.22      0.80      32\n",
      "3           1      1     3        0        1  0.24      0.75      13\n",
      "4           1      1     4        0        1  0.24      0.75       1\n",
      "...       ...    ...   ...      ...      ...   ...       ...     ...\n",
      "17374       1     12    19        0        2  0.26      0.60     119\n",
      "17375       1     12    20        0        2  0.26      0.60      89\n",
      "17376       1     12    21        0        1  0.26      0.60      90\n",
      "17377       1     12    22        0        1  0.26      0.56      61\n",
      "17378       1     12    23        0        1  0.26      0.65      49\n",
      "\n",
      "[17379 rows x 8 columns]\n"
     ]
    }
   ],
   "source": [
    "bt=bt.drop(['weekday','year','workingday','atemp','windspeed'],axis=1)\n",
    "print(bt)"
   ]
  },
  {
   "cell_type": "code",
   "execution_count": 35,
   "id": "feef751d",
   "metadata": {},
   "outputs": [
    {
     "data": {
      "text/plain": [
       "(array([-12, -11, -10,  -9,  -8,  -7,  -6,  -5,  -4,  -3,  -2,  -1,   0,\n",
       "          1,   2,   3,   4,   5,   6,   7,   8,   9,  10,  11,  12]),\n",
       " array([0.45474693, 0.47049534, 0.4962279 , 0.49404034, 0.46795917,\n",
       "        0.4773202 , 0.5267575 , 0.5914572 , 0.6520155 , 0.7151952 ,\n",
       "        0.8059098 , 0.92530924, 1.        , 0.92530924, 0.8059098 ,\n",
       "        0.7151952 , 0.6520155 , 0.5914572 , 0.5267575 , 0.4773202 ,\n",
       "        0.46795917, 0.49404034, 0.4962279 , 0.47049534, 0.45474693],\n",
       "       dtype=float32),\n",
       " <matplotlib.collections.LineCollection at 0x71f21b751ac0>,\n",
       " <matplotlib.lines.Line2D at 0x71f21b751a00>)"
      ]
     },
     "execution_count": 35,
     "metadata": {},
     "output_type": "execute_result"
    },
    {
     "data": {
      "image/png": "[encoded data removed]",
      "text/plain": [
       "<Figure size 432x288 with 1 Axes>"
      ]
     },
     "metadata": {
      "needs_background": "light"
     },
     "output_type": "display_data"
    }
   ],
   "source": [
    "df1=pd.to_numeric(bt['demand'],downcast='float')\n",
    "plt.acorr(df1,maxlags=12)"
   ]
  },
  {
   "cell_type": "code",
   "execution_count": 36,
   "id": "1b235813",
   "metadata": {},
   "outputs": [
    {
     "data": {
      "text/plain": [
       "<AxesSubplot:>"
      ]
     },
     "execution_count": 36,
     "metadata": {},
     "output_type": "execute_result"
    },
    {
     "data": {
      "image/png": "[encoded data removed]",
      "text/plain": [
       "<Figure size 432x288 with 1 Axes>"
      ]
     },
     "metadata": {
      "needs_background": "light"
     },
     "output_type": "display_data"
    },
    {
     "data": {
      "image/png": "[encoded data removed]",
      "text/plain": [
       "<Figure size 432x288 with 1 Axes>"
      ]
     },
     "metadata": {
      "needs_background": "light"
     },
     "output_type": "display_data"
    }
   ],
   "source": [
    "lf1=bt['demand']\n",
    "lf2=np.log(lf1)\n",
    "\n",
    "plt.figure()\n",
    "lf1.hist(rwidth=0.9,bins=20)\n",
    "\n",
    "plt.figure()\n",
    "lf2.hist(rwidth=0.9,bins=20)"
   ]
  },
  {
   "cell_type": "code",
   "execution_count": 37,
   "id": "0f672794",
   "metadata": {},
   "outputs": [
    {
     "name": "stdout",
     "output_type": "stream",
     "text": [
      "       season  month  hour  holiday  weather  temp  humidity    demand\n",
      "0           1      1     0        0        1  0.24      0.81  2.772589\n",
      "1           1      1     1        0        1  0.22      0.80  3.688879\n",
      "2           1      1     2        0        1  0.22      0.80  3.465736\n",
      "3           1      1     3        0        1  0.24      0.75  2.564949\n",
      "4           1      1     4        0        1  0.24      0.75  0.000000\n",
      "...       ...    ...   ...      ...      ...   ...       ...       ...\n",
      "17374       1     12    19        0        2  0.26      0.60  4.779123\n",
      "17375       1     12    20        0        2  0.26      0.60  4.488636\n",
      "17376       1     12    21        0        1  0.26      0.60  4.499810\n",
      "17377       1     12    22        0        1  0.26      0.56  4.110874\n",
      "17378       1     12    23        0        1  0.26      0.65  3.891820\n",
      "\n",
      "[17379 rows x 8 columns]\n"
     ]
    }
   ],
   "source": [
    "bt['demand']=np.log(bt['demand'])\n",
    "print(bt)"
   ]
  },
  {
   "cell_type": "code",
   "execution_count": 38,
   "id": "a0b57bf1",
   "metadata": {},
   "outputs": [
    {
     "name": "stdout",
     "output_type": "stream",
     "text": [
      "       season  month  hour  holiday  weather  temp  humidity    demand  \\\n",
      "0           1      1     0        0        1  0.24      0.81  2.772589   \n",
      "1           1      1     1        0        1  0.22      0.80  3.688879   \n",
      "2           1      1     2        0        1  0.22      0.80  3.465736   \n",
      "3           1      1     3        0        1  0.24      0.75  2.564949   \n",
      "4           1      1     4        0        1  0.24      0.75  0.000000   \n",
      "...       ...    ...   ...      ...      ...   ...       ...       ...   \n",
      "17374       1     12    19        0        2  0.26      0.60  4.779123   \n",
      "17375       1     12    20        0        2  0.26      0.60  4.488636   \n",
      "17376       1     12    21        0        1  0.26      0.60  4.499810   \n",
      "17377       1     12    22        0        1  0.26      0.56  4.110874   \n",
      "17378       1     12    23        0        1  0.26      0.65  3.891820   \n",
      "\n",
      "            t-1       t-2       t-3  \n",
      "0           NaN       NaN       NaN  \n",
      "1      2.772589       NaN       NaN  \n",
      "2      3.688879  2.772589       NaN  \n",
      "3      3.465736  3.688879  2.772589  \n",
      "4      2.564949  3.465736  3.688879  \n",
      "...         ...       ...       ...  \n",
      "17374  4.804021  5.099866  5.365976  \n",
      "17375  4.779123  4.804021  5.099866  \n",
      "17376  4.488636  4.779123  4.804021  \n",
      "17377  4.499810  4.488636  4.779123  \n",
      "17378  4.110874  4.499810  4.488636  \n",
      "\n",
      "[17379 rows x 11 columns]\n"
     ]
    }
   ],
   "source": [
    "t_1=bt['demand'].shift(+1).to_frame()\n",
    "t_1.columns=['t-1']\n",
    "\n",
    "t_2=bt['demand'].shift(+2).to_frame()\n",
    "t_2.columns=['t-2']\n",
    "\n",
    "t_3=bt['demand'].shift(+3).to_frame()\n",
    "t_3.columns=['t-3']\n",
    "\n",
    "bt_lag=pd.concat([bt,t_1,t_2,t_3],axis=1)\n",
    "print(bt_lag)"
   ]
  },
  {
   "cell_type": "code",
   "execution_count": 39,
   "id": "e1825d72",
   "metadata": {},
   "outputs": [],
   "source": [
    "bt_lag=bt_lag.dropna()"
   ]
  },
  {
   "cell_type": "code",
   "execution_count": 40,
   "id": "98cf4fef",
   "metadata": {},
   "outputs": [
    {
     "name": "stdout",
     "output_type": "stream",
     "text": [
      "       season  month  hour  holiday  weather  temp  humidity    demand  \\\n",
      "3           1      1     3        0        1  0.24      0.75  2.564949   \n",
      "4           1      1     4        0        1  0.24      0.75  0.000000   \n",
      "5           1      1     5        0        2  0.24      0.75  0.000000   \n",
      "6           1      1     6        0        1  0.22      0.80  0.693147   \n",
      "7           1      1     7        0        1  0.20      0.86  1.098612   \n",
      "...       ...    ...   ...      ...      ...   ...       ...       ...   \n",
      "17374       1     12    19        0        2  0.26      0.60  4.779123   \n",
      "17375       1     12    20        0        2  0.26      0.60  4.488636   \n",
      "17376       1     12    21        0        1  0.26      0.60  4.499810   \n",
      "17377       1     12    22        0        1  0.26      0.56  4.110874   \n",
      "17378       1     12    23        0        1  0.26      0.65  3.891820   \n",
      "\n",
      "            t-1       t-2       t-3  \n",
      "3      3.465736  3.688879  2.772589  \n",
      "4      2.564949  3.465736  3.688879  \n",
      "5      0.000000  2.564949  3.465736  \n",
      "6      0.000000  0.000000  2.564949  \n",
      "7      0.693147  0.000000  0.000000  \n",
      "...         ...       ...       ...  \n",
      "17374  4.804021  5.099866  5.365976  \n",
      "17375  4.779123  4.804021  5.099866  \n",
      "17376  4.488636  4.779123  4.804021  \n",
      "17377  4.499810  4.488636  4.779123  \n",
      "17378  4.110874  4.499810  4.488636  \n",
      "\n",
      "[17376 rows x 11 columns]\n"
     ]
    }
   ],
   "source": [
    "print(bt_lag)"
   ]
  },
  {
   "cell_type": "code",
   "execution_count": 41,
   "id": "9a8e6cdb",
   "metadata": {},
   "outputs": [
    {
     "data": {
      "text/plain": [
       "season        int64\n",
       "month         int64\n",
       "hour          int64\n",
       "holiday       int64\n",
       "weather       int64\n",
       "temp        float64\n",
       "humidity    float64\n",
       "demand      float64\n",
       "t-1         float64\n",
       "t-2         float64\n",
       "t-3         float64\n",
       "dtype: object"
      ]
     },
     "execution_count": 41,
     "metadata": {},
     "output_type": "execute_result"
    }
   ],
   "source": [
    "bt_lag.dtypes"
   ]
  },
  {
   "cell_type": "code",
   "execution_count": 42,
   "id": "163b4db3",
   "metadata": {},
   "outputs": [],
   "source": [
    "bt_lag['season']=bt_lag['season'].astype('category')\n",
    "bt_lag['month']=bt_lag['month'].astype('category')\n",
    "bt_lag['hour']=bt_lag['hour'].astype('category')\n",
    "bt_lag['holiday']=bt_lag['holiday'].astype('category')\n",
    "bt_lag['weather']=bt_lag['weather'].astype('category')\n",
    "\n",
    "bt_lag=pd.get_dummies(bt_lag,drop_first=True)"
   ]
  },
  {
   "cell_type": "code",
   "execution_count": 44,
   "id": "b8c504e5",
   "metadata": {},
   "outputs": [
    {
     "data": {
      "text/html": [
       "<div>\n",
       "<style scoped>\n",
       "    .dataframe tbody tr th:only-of-type {\n",
       "        vertical-align: middle;\n",
       "    }\n",
       "\n",
       "    .dataframe tbody tr th {\n",
       "        vertical-align: top;\n",
       "    }\n",
       "\n",
       "    .dataframe thead th {\n",
       "        text-align: right;\n",
       "    }\n",
       "</style>\n",
       "<table border=\"1\" class=\"dataframe\">\n",
       "  <thead>\n",
       "    <tr style=\"text-align: right;\">\n",
       "      <th></th>\n",
       "      <th>temp</th>\n",
       "      <th>humidity</th>\n",
       "      <th>demand</th>\n",
       "      <th>t-1</th>\n",
       "      <th>t-2</th>\n",
       "      <th>t-3</th>\n",
       "      <th>season_2</th>\n",
       "      <th>season_3</th>\n",
       "      <th>season_4</th>\n",
       "      <th>month_2</th>\n",
       "      <th>...</th>\n",
       "      <th>hour_18</th>\n",
       "      <th>hour_19</th>\n",
       "      <th>hour_20</th>\n",
       "      <th>hour_21</th>\n",
       "      <th>hour_22</th>\n",
       "      <th>hour_23</th>\n",
       "      <th>holiday_1</th>\n",
       "      <th>weather_2</th>\n",
       "      <th>weather_3</th>\n",
       "      <th>weather_4</th>\n",
       "    </tr>\n",
       "  </thead>\n",
       "  <tbody>\n",
       "    <tr>\n",
       "      <th>3</th>\n",
       "      <td>0.24</td>\n",
       "      <td>0.75</td>\n",
       "      <td>2.564949</td>\n",
       "      <td>3.465736</td>\n",
       "      <td>3.688879</td>\n",
       "      <td>2.772589</td>\n",
       "      <td>0</td>\n",
       "      <td>0</td>\n",
       "      <td>0</td>\n",
       "      <td>0</td>\n",
       "      <td>...</td>\n",
       "      <td>0</td>\n",
       "      <td>0</td>\n",
       "      <td>0</td>\n",
       "      <td>0</td>\n",
       "      <td>0</td>\n",
       "      <td>0</td>\n",
       "      <td>0</td>\n",
       "      <td>0</td>\n",
       "      <td>0</td>\n",
       "      <td>0</td>\n",
       "    </tr>\n",
       "    <tr>\n",
       "      <th>4</th>\n",
       "      <td>0.24</td>\n",
       "      <td>0.75</td>\n",
       "      <td>0.000000</td>\n",
       "      <td>2.564949</td>\n",
       "      <td>3.465736</td>\n",
       "      <td>3.688879</td>\n",
       "      <td>0</td>\n",
       "      <td>0</td>\n",
       "      <td>0</td>\n",
       "      <td>0</td>\n",
       "      <td>...</td>\n",
       "      <td>0</td>\n",
       "      <td>0</td>\n",
       "      <td>0</td>\n",
       "      <td>0</td>\n",
       "      <td>0</td>\n",
       "      <td>0</td>\n",
       "      <td>0</td>\n",
       "      <td>0</td>\n",
       "      <td>0</td>\n",
       "      <td>0</td>\n",
       "    </tr>\n",
       "    <tr>\n",
       "      <th>5</th>\n",
       "      <td>0.24</td>\n",
       "      <td>0.75</td>\n",
       "      <td>0.000000</td>\n",
       "      <td>0.000000</td>\n",
       "      <td>2.564949</td>\n",
       "      <td>3.465736</td>\n",
       "      <td>0</td>\n",
       "      <td>0</td>\n",
       "      <td>0</td>\n",
       "      <td>0</td>\n",
       "      <td>...</td>\n",
       "      <td>0</td>\n",
       "      <td>0</td>\n",
       "      <td>0</td>\n",
       "      <td>0</td>\n",
       "      <td>0</td>\n",
       "      <td>0</td>\n",
       "      <td>0</td>\n",
       "      <td>1</td>\n",
       "      <td>0</td>\n",
       "      <td>0</td>\n",
       "    </tr>\n",
       "    <tr>\n",
       "      <th>6</th>\n",
       "      <td>0.22</td>\n",
       "      <td>0.80</td>\n",
       "      <td>0.693147</td>\n",
       "      <td>0.000000</td>\n",
       "      <td>0.000000</td>\n",
       "      <td>2.564949</td>\n",
       "      <td>0</td>\n",
       "      <td>0</td>\n",
       "      <td>0</td>\n",
       "      <td>0</td>\n",
       "      <td>...</td>\n",
       "      <td>0</td>\n",
       "      <td>0</td>\n",
       "      <td>0</td>\n",
       "      <td>0</td>\n",
       "      <td>0</td>\n",
       "      <td>0</td>\n",
       "      <td>0</td>\n",
       "      <td>0</td>\n",
       "      <td>0</td>\n",
       "      <td>0</td>\n",
       "    </tr>\n",
       "    <tr>\n",
       "      <th>7</th>\n",
       "      <td>0.20</td>\n",
       "      <td>0.86</td>\n",
       "      <td>1.098612</td>\n",
       "      <td>0.693147</td>\n",
       "      <td>0.000000</td>\n",
       "      <td>0.000000</td>\n",
       "      <td>0</td>\n",
       "      <td>0</td>\n",
       "      <td>0</td>\n",
       "      <td>0</td>\n",
       "      <td>...</td>\n",
       "      <td>0</td>\n",
       "      <td>0</td>\n",
       "      <td>0</td>\n",
       "      <td>0</td>\n",
       "      <td>0</td>\n",
       "      <td>0</td>\n",
       "      <td>0</td>\n",
       "      <td>0</td>\n",
       "      <td>0</td>\n",
       "      <td>0</td>\n",
       "    </tr>\n",
       "  </tbody>\n",
       "</table>\n",
       "<p>5 rows × 47 columns</p>\n",
       "</div>"
      ],
      "text/plain": [
       "   temp  humidity    demand       t-1       t-2       t-3  season_2  season_3  \\\n",
       "3  0.24      0.75  2.564949  3.465736  3.688879  2.772589         0         0   \n",
       "4  0.24      0.75  0.000000  2.564949  3.465736  3.688879         0         0   \n",
       "5  0.24      0.75  0.000000  0.000000  2.564949  3.465736         0         0   \n",
       "6  0.22      0.80  0.693147  0.000000  0.000000  2.564949         0         0   \n",
       "7  0.20      0.86  1.098612  0.693147  0.000000  0.000000         0         0   \n",
       "\n",
       "   season_4  month_2  ...  hour_18  hour_19  hour_20  hour_21  hour_22  \\\n",
       "3         0        0  ...        0        0        0        0        0   \n",
       "4         0        0  ...        0        0        0        0        0   \n",
       "5         0        0  ...        0        0        0        0        0   \n",
       "6         0        0  ...        0        0        0        0        0   \n",
       "7         0        0  ...        0        0        0        0        0   \n",
       "\n",
       "   hour_23  holiday_1  weather_2  weather_3  weather_4  \n",
       "3        0          0          0          0          0  \n",
       "4        0          0          0          0          0  \n",
       "5        0          0          1          0          0  \n",
       "6        0          0          0          0          0  \n",
       "7        0          0          0          0          0  \n",
       "\n",
       "[5 rows x 47 columns]"
      ]
     },
     "execution_count": 44,
     "metadata": {},
     "output_type": "execute_result"
    }
   ],
   "source": [
    "bt_lag.head()"
   ]
  },
  {
   "cell_type": "code",
   "execution_count": 45,
   "id": "ceab5238",
   "metadata": {},
   "outputs": [],
   "source": [
    "Y=bt_lag[['demand']]\n",
    "X=bt_lag.drop(['demand'],axis=1)"
   ]
  },
  {
   "cell_type": "code",
   "execution_count": 46,
   "id": "103423d8",
   "metadata": {},
   "outputs": [
    {
     "data": {
      "text/html": [
       "<div>\n",
       "<style scoped>\n",
       "    .dataframe tbody tr th:only-of-type {\n",
       "        vertical-align: middle;\n",
       "    }\n",
       "\n",
       "    .dataframe tbody tr th {\n",
       "        vertical-align: top;\n",
       "    }\n",
       "\n",
       "    .dataframe thead th {\n",
       "        text-align: right;\n",
       "    }\n",
       "</style>\n",
       "<table border=\"1\" class=\"dataframe\">\n",
       "  <thead>\n",
       "    <tr style=\"text-align: right;\">\n",
       "      <th></th>\n",
       "      <th>temp</th>\n",
       "      <th>humidity</th>\n",
       "      <th>t-1</th>\n",
       "      <th>t-2</th>\n",
       "      <th>t-3</th>\n",
       "      <th>season_2</th>\n",
       "      <th>season_3</th>\n",
       "      <th>season_4</th>\n",
       "      <th>month_2</th>\n",
       "      <th>month_3</th>\n",
       "      <th>...</th>\n",
       "      <th>hour_18</th>\n",
       "      <th>hour_19</th>\n",
       "      <th>hour_20</th>\n",
       "      <th>hour_21</th>\n",
       "      <th>hour_22</th>\n",
       "      <th>hour_23</th>\n",
       "      <th>holiday_1</th>\n",
       "      <th>weather_2</th>\n",
       "      <th>weather_3</th>\n",
       "      <th>weather_4</th>\n",
       "    </tr>\n",
       "  </thead>\n",
       "  <tbody>\n",
       "    <tr>\n",
       "      <th>3</th>\n",
       "      <td>0.24</td>\n",
       "      <td>0.75</td>\n",
       "      <td>3.465736</td>\n",
       "      <td>3.688879</td>\n",
       "      <td>2.772589</td>\n",
       "      <td>0</td>\n",
       "      <td>0</td>\n",
       "      <td>0</td>\n",
       "      <td>0</td>\n",
       "      <td>0</td>\n",
       "      <td>...</td>\n",
       "      <td>0</td>\n",
       "      <td>0</td>\n",
       "      <td>0</td>\n",
       "      <td>0</td>\n",
       "      <td>0</td>\n",
       "      <td>0</td>\n",
       "      <td>0</td>\n",
       "      <td>0</td>\n",
       "      <td>0</td>\n",
       "      <td>0</td>\n",
       "    </tr>\n",
       "    <tr>\n",
       "      <th>4</th>\n",
       "      <td>0.24</td>\n",
       "      <td>0.75</td>\n",
       "      <td>2.564949</td>\n",
       "      <td>3.465736</td>\n",
       "      <td>3.688879</td>\n",
       "      <td>0</td>\n",
       "      <td>0</td>\n",
       "      <td>0</td>\n",
       "      <td>0</td>\n",
       "      <td>0</td>\n",
       "      <td>...</td>\n",
       "      <td>0</td>\n",
       "      <td>0</td>\n",
       "      <td>0</td>\n",
       "      <td>0</td>\n",
       "      <td>0</td>\n",
       "      <td>0</td>\n",
       "      <td>0</td>\n",
       "      <td>0</td>\n",
       "      <td>0</td>\n",
       "      <td>0</td>\n",
       "    </tr>\n",
       "    <tr>\n",
       "      <th>5</th>\n",
       "      <td>0.24</td>\n",
       "      <td>0.75</td>\n",
       "      <td>0.000000</td>\n",
       "      <td>2.564949</td>\n",
       "      <td>3.465736</td>\n",
       "      <td>0</td>\n",
       "      <td>0</td>\n",
       "      <td>0</td>\n",
       "      <td>0</td>\n",
       "      <td>0</td>\n",
       "      <td>...</td>\n",
       "      <td>0</td>\n",
       "      <td>0</td>\n",
       "      <td>0</td>\n",
       "      <td>0</td>\n",
       "      <td>0</td>\n",
       "      <td>0</td>\n",
       "      <td>0</td>\n",
       "      <td>1</td>\n",
       "      <td>0</td>\n",
       "      <td>0</td>\n",
       "    </tr>\n",
       "    <tr>\n",
       "      <th>6</th>\n",
       "      <td>0.22</td>\n",
       "      <td>0.80</td>\n",
       "      <td>0.000000</td>\n",
       "      <td>0.000000</td>\n",
       "      <td>2.564949</td>\n",
       "      <td>0</td>\n",
       "      <td>0</td>\n",
       "      <td>0</td>\n",
       "      <td>0</td>\n",
       "      <td>0</td>\n",
       "      <td>...</td>\n",
       "      <td>0</td>\n",
       "      <td>0</td>\n",
       "      <td>0</td>\n",
       "      <td>0</td>\n",
       "      <td>0</td>\n",
       "      <td>0</td>\n",
       "      <td>0</td>\n",
       "      <td>0</td>\n",
       "      <td>0</td>\n",
       "      <td>0</td>\n",
       "    </tr>\n",
       "    <tr>\n",
       "      <th>7</th>\n",
       "      <td>0.20</td>\n",
       "      <td>0.86</td>\n",
       "      <td>0.693147</td>\n",
       "      <td>0.000000</td>\n",
       "      <td>0.000000</td>\n",
       "      <td>0</td>\n",
       "      <td>0</td>\n",
       "      <td>0</td>\n",
       "      <td>0</td>\n",
       "      <td>0</td>\n",
       "      <td>...</td>\n",
       "      <td>0</td>\n",
       "      <td>0</td>\n",
       "      <td>0</td>\n",
       "      <td>0</td>\n",
       "      <td>0</td>\n",
       "      <td>0</td>\n",
       "      <td>0</td>\n",
       "      <td>0</td>\n",
       "      <td>0</td>\n",
       "      <td>0</td>\n",
       "    </tr>\n",
       "  </tbody>\n",
       "</table>\n",
       "<p>5 rows × 46 columns</p>\n",
       "</div>"
      ],
      "text/plain": [
       "   temp  humidity       t-1       t-2       t-3  season_2  season_3  season_4  \\\n",
       "3  0.24      0.75  3.465736  3.688879  2.772589         0         0         0   \n",
       "4  0.24      0.75  2.564949  3.465736  3.688879         0         0         0   \n",
       "5  0.24      0.75  0.000000  2.564949  3.465736         0         0         0   \n",
       "6  0.22      0.80  0.000000  0.000000  2.564949         0         0         0   \n",
       "7  0.20      0.86  0.693147  0.000000  0.000000         0         0         0   \n",
       "\n",
       "   month_2  month_3  ...  hour_18  hour_19  hour_20  hour_21  hour_22  \\\n",
       "3        0        0  ...        0        0        0        0        0   \n",
       "4        0        0  ...        0        0        0        0        0   \n",
       "5        0        0  ...        0        0        0        0        0   \n",
       "6        0        0  ...        0        0        0        0        0   \n",
       "7        0        0  ...        0        0        0        0        0   \n",
       "\n",
       "   hour_23  holiday_1  weather_2  weather_3  weather_4  \n",
       "3        0          0          0          0          0  \n",
       "4        0          0          0          0          0  \n",
       "5        0          0          1          0          0  \n",
       "6        0          0          0          0          0  \n",
       "7        0          0          0          0          0  \n",
       "\n",
       "[5 rows x 46 columns]"
      ]
     },
     "execution_count": 46,
     "metadata": {},
     "output_type": "execute_result"
    }
   ],
   "source": [
    "X.head()"
   ]
  },
  {
   "cell_type": "code",
   "execution_count": 47,
   "id": "11c68bb4",
   "metadata": {},
   "outputs": [
    {
     "name": "stdout",
     "output_type": "stream",
     "text": [
      "12163.199999999999\n"
     ]
    }
   ],
   "source": [
    "tr_size=0.7*len(X)\n",
    "print(tr_size)"
   ]
  },
  {
   "cell_type": "code",
   "execution_count": 48,
   "id": "5a7508da",
   "metadata": {},
   "outputs": [
    {
     "name": "stdout",
     "output_type": "stream",
     "text": [
      "12163\n"
     ]
    }
   ],
   "source": [
    "tr_size=int(tr_size)\n",
    "print(tr_size)"
   ]
  },
  {
   "cell_type": "code",
   "execution_count": 49,
   "id": "a6fd5bc9",
   "metadata": {},
   "outputs": [],
   "source": [
    "x_train=X.values[0:tr_size]\n",
    "x_test=X.values[tr_size:len(X)]\n",
    "\n",
    "y_train=Y.values[0:tr_size]\n",
    "y_test=Y.values[tr_size:len(Y)]"
   ]
  },
  {
   "cell_type": "code",
   "execution_count": 50,
   "id": "663ea746",
   "metadata": {},
   "outputs": [
    {
     "data": {
      "text/plain": [
       "LinearRegression()"
      ]
     },
     "execution_count": 50,
     "metadata": {},
     "output_type": "execute_result"
    }
   ],
   "source": [
    "from sklearn.linear_model import LinearRegression\n",
    "std_reg=LinearRegression()\n",
    "std_reg.fit(x_train,y_train)"
   ]
  },
  {
   "cell_type": "code",
   "execution_count": 51,
   "id": "ffb88a6b",
   "metadata": {},
   "outputs": [],
   "source": [
    "r2_train=std_reg.score(x_train,y_train)\n",
    "r2_test=std_reg.score(x_test,y_test)"
   ]
  },
  {
   "cell_type": "code",
   "execution_count": 52,
   "id": "c407fc4f",
   "metadata": {},
   "outputs": [],
   "source": [
    "Y_predict=std_reg.predict(x_test)"
   ]
  },
  {
   "cell_type": "code",
   "execution_count": 53,
   "id": "38e030ef",
   "metadata": {},
   "outputs": [],
   "source": [
    "from sklearn.metrics import mean_squared_error\n",
    "rmse=math.sqrt(mean_squared_error(y_test,Y_predict))"
   ]
  },
  {
   "cell_type": "code",
   "execution_count": 54,
   "id": "7fe31c68",
   "metadata": {},
   "outputs": [
    {
     "name": "stdout",
     "output_type": "stream",
     "text": [
      "0.9195240591465778\n",
      "0.9287151360253385\n",
      "0.38098800498170465\n"
     ]
    }
   ],
   "source": [
    "print(r2_train)\n",
    "print(r2_test)\n",
    "print(rmse)"
   ]
  },
  {
   "cell_type": "code",
   "execution_count": 55,
   "id": "66f6846e",
   "metadata": {},
   "outputs": [],
   "source": [
    "y_test_e=[]\n",
    "y_predict_e=[]\n",
    "\n",
    "for i in range(0,len(y_test)):\n",
    "    y_test_e.append(math.exp(y_test[i]))\n",
    "    y_predict_e.append(math.exp(Y_predict[i]))"
   ]
  },
  {
   "cell_type": "code",
   "execution_count": 56,
   "id": "36fdb1f9",
   "metadata": {},
   "outputs": [
    {
     "name": "stdout",
     "output_type": "stream",
     "text": [
      "0.35609417069802113\n"
     ]
    }
   ],
   "source": [
    "log_sq_sum=0.0\n",
    "\n",
    "for i in range(0,len(y_test)):\n",
    "    log_a=math.log(y_test_e[i]+1)\n",
    "    log_p=math.log(y_predict_e[i]+1)\n",
    "    log_diff=(log_p-log_a)**2\n",
    "    log_sq_sum=log_sq_sum+log_diff\n",
    "    \n",
    "rmsle=math.sqrt(log_sq_sum/len(y_test))\n",
    "print(rmsle)"
   ]
  },
  {
   "cell_type": "code",
   "execution_count": null,
   "id": "96dc80e0",
   "metadata": {},
   "outputs": [],
   "source": []
  }
 ],
 "metadata": {
  "kernelspec": {
   "display_name": "Python 3 (ipykernel)",
   "language": "python",
   "name": "python3"
  },
  "language_info": {
   "codemirror_mode": {
    "name": "ipython",
    "version": 3
   },
   "file_extension": ".py",
   "mimetype": "text/x-python",
   "name": "python",
   "nbconvert_exporter": "python",
   "pygments_lexer": "ipython3",
   "version": "3.9.7"
  }
 },
 "nbformat": 4,
 "nbformat_minor": 5
}
